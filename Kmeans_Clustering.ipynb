{
  "nbformat": 4,
  "nbformat_minor": 0,
  "metadata": {
    "colab": {
      "provenance": [],
      "authorship_tag": "ABX9TyMFGXN+4wYWZS9eahrDTJoY",
      "include_colab_link": true
    },
    "kernelspec": {
      "name": "python3",
      "display_name": "Python 3"
    },
    "language_info": {
      "name": "python"
    }
  },
  "cells": [
    {
      "cell_type": "markdown",
      "metadata": {
        "id": "view-in-github",
        "colab_type": "text"
      },
      "source": [
        "<a href=\"https://colab.research.google.com/github/HagarSameh/-breast-cancer-dataset/blob/main/Kmeans_Clustering.ipynb\" target=\"_parent\"><img src=\"https://colab.research.google.com/assets/colab-badge.svg\" alt=\"Open In Colab\"/></a>"
      ]
    },
    {
      "cell_type": "code",
      "execution_count": null,
      "metadata": {
        "id": "V9FXvE354vvK"
      },
      "outputs": [],
      "source": [
        "import numpy as np\n",
        "import pandas as pd\n",
        "from sklearn.impute import SimpleImputer \n",
        "from sklearn.preprocessing import LabelEncoder,OneHotEncoder \n",
        "from sklearn.preprocessing import StandardScaler \n",
        "from sklearn.model_selection import train_test_split\n",
        "import seaborn as sns\n",
        "from sklearn.cluster import KMeans\n",
        "from sklearn.decomposition import PCA \n",
        "from sklearn.metrics import silhouette_score , adjusted_rand_score\n",
        "from sklearn.pipeline import Pipeline\n",
        "from sklearn.preprocessing import LabelEncoder,MinMaxScaler\n",
        "from sklearn.cluster import KMeans\n",
        "import matplotlib.pyplot as plt\n"
      ]
    },
    {
      "cell_type": "code",
      "source": [
        "dataset=pd.read_csv(\"GSE183947_fpkm.csv\")"
      ],
      "metadata": {
        "id": "uy2xfyfp45eY"
      },
      "execution_count": null,
      "outputs": []
    },
    {
      "cell_type": "code",
      "source": [
        "print(dataset)"
      ],
      "metadata": {
        "id": "XJR-crJh5CCE"
      },
      "execution_count": null,
      "outputs": []
    },
    {
      "cell_type": "markdown",
      "source": [
        "**Transpose**"
      ],
      "metadata": {
        "id": "Ct8Y9Ftm5HJD"
      }
    },
    {
      "cell_type": "code",
      "source": [
        "dataset= dataset.T"
      ],
      "metadata": {
        "id": "aJgLzx4a5D7Q"
      },
      "execution_count": null,
      "outputs": []
    },
    {
      "cell_type": "markdown",
      "source": [
        "**Dropping**"
      ],
      "metadata": {
        "id": "fQW45CgG5PWI"
      }
    },
    {
      "cell_type": "code",
      "source": [
        "#here i removed the rows(which now are columns after transpose) that carry more than 40 zero value \n",
        "l=dataset.columns.tolist()\n",
        "for x in l:\n",
        "  if len(dataset[dataset[x]== 0]) >= 40   :\n",
        "    dataset.drop(x,axis=1,inplace=True)\n",
        "    print(\"column \",x,\"dropped\")\n",
        "\n"
      ],
      "metadata": {
        "id": "aYybcnSx5Mpl"
      },
      "execution_count": null,
      "outputs": []
    },
    {
      "cell_type": "markdown",
      "source": [
        "**Transpose Again**"
      ],
      "metadata": {
        "id": "ARNdf5zo5Vpe"
      }
    },
    {
      "cell_type": "code",
      "source": [
        "dataset = dataset.T"
      ],
      "metadata": {
        "id": "TcvNPg7Y5Sgs"
      },
      "execution_count": null,
      "outputs": []
    },
    {
      "cell_type": "code",
      "source": [
        "dataset=dataset.iloc[:, dataset.columns != 'Unnamed: 0'] # to get all numbers for scaling except first column"
      ],
      "metadata": {
        "id": "Zk8dmTpW5cox"
      },
      "execution_count": null,
      "outputs": []
    },
    {
      "cell_type": "code",
      "source": [
        "dataset"
      ],
      "metadata": {
        "colab": {
          "base_uri": "https://localhost:8080/",
          "height": 488
        },
        "id": "bhRQu3kXhRRO",
        "outputId": "cc2bed63-d7d9-4d6e-85e5-4324af083979"
      },
      "execution_count": null,
      "outputs": [
        {
          "output_type": "execute_result",
          "data": {
            "text/plain": [
              "      CA.102548 CA.104338 CA.105094 CA.109745 CA.1906415 CA.1912627  \\\n",
              "0          0.93      1.97       0.0      5.45       4.52       4.75   \n",
              "1           0.0       0.0       0.0       0.0        0.0        0.0   \n",
              "2           0.0      0.43       0.0      3.43       8.45       8.53   \n",
              "3          5.78      5.17      8.76      4.58        7.2       6.03   \n",
              "4          2.83      6.26      3.37      6.24       5.16      13.69   \n",
              "...         ...       ...       ...       ...        ...        ...   \n",
              "20238       0.0       0.1       0.0      1.15        0.0       0.12   \n",
              "20240     38.27     30.99     47.57     12.27       4.69       3.88   \n",
              "20241       0.0      0.16       0.0       0.0        0.0        0.3   \n",
              "20244       0.0       0.0       0.0       0.1       0.64        0.0   \n",
              "20245       0.0       0.0       0.0       0.0        0.0        0.0   \n",
              "\n",
              "      CA.1924346 CA.1926760 CA.1927842 CA.1933414  ... CAP.2040686  \\\n",
              "0           3.96       3.58       6.41      11.89  ...        6.66   \n",
              "1            0.0       0.23       0.39       0.44  ...        0.12   \n",
              "2            7.8       7.62        6.4       6.09  ...        4.93   \n",
              "3           9.05       5.37       5.92      12.45  ...        8.02   \n",
              "4           6.69       5.28       7.65      13.71  ...        7.91   \n",
              "...          ...        ...        ...        ...  ...         ...   \n",
              "20238       0.46        0.1       0.24        0.0  ...        0.21   \n",
              "20240       2.96        6.4       5.63       6.88  ...        3.56   \n",
              "20241        0.0        0.0       0.43       0.55  ...        0.19   \n",
              "20244        0.0        0.0        0.2       0.27  ...        0.46   \n",
              "20245        0.0       0.06       0.37        0.0  ...         0.0   \n",
              "\n",
              "      CAP.2046297 CAP.2046641 CAP.348981 CAP.354300 CAP.359448 CAP.94377  \\\n",
              "0            8.35        8.94       6.33       5.94       6.35      3.74   \n",
              "1            0.17        1.08       0.29        0.0       0.07      9.19   \n",
              "2            7.47        5.72       4.96       9.28       9.15      4.77   \n",
              "3             6.0        5.28       4.98       4.45        7.0      4.14   \n",
              "4            4.61        8.35       9.84       7.68       5.62      2.81   \n",
              "...           ...         ...        ...        ...        ...       ...   \n",
              "20238        0.19        0.08       0.17       2.52       1.64       0.5   \n",
              "20240        2.95         3.3       4.53       2.89       3.11      3.03   \n",
              "20241        0.72        0.95        0.0       0.33       0.26       0.0   \n",
              "20244        0.19         0.7       0.16       0.84       0.58       0.0   \n",
              "20245        2.85        0.46        0.0        0.0       0.42      0.62   \n",
              "\n",
              "      CAP.98389 CAP.98475 CAP.99145  \n",
              "0          4.84     10.46      4.54  \n",
              "1          1.18      0.09      0.39  \n",
              "2          3.75      7.31      2.77  \n",
              "3          5.51      7.45      2.33  \n",
              "4          7.08      7.28      5.39  \n",
              "...         ...       ...       ...  \n",
              "20238       0.0       0.0      1.17  \n",
              "20240      9.18       5.2      5.27  \n",
              "20241       0.0       0.0      0.23  \n",
              "20244       0.0       0.0      0.14  \n",
              "20245       0.0      3.31      1.19  \n",
              "\n",
              "[18368 rows x 60 columns]"
            ],
            "text/html": [
              "\n",
              "  <div id=\"df-e01c74f6-9852-4232-980f-e0adbe5be770\">\n",
              "    <div class=\"colab-df-container\">\n",
              "      <div>\n",
              "<style scoped>\n",
              "    .dataframe tbody tr th:only-of-type {\n",
              "        vertical-align: middle;\n",
              "    }\n",
              "\n",
              "    .dataframe tbody tr th {\n",
              "        vertical-align: top;\n",
              "    }\n",
              "\n",
              "    .dataframe thead th {\n",
              "        text-align: right;\n",
              "    }\n",
              "</style>\n",
              "<table border=\"1\" class=\"dataframe\">\n",
              "  <thead>\n",
              "    <tr style=\"text-align: right;\">\n",
              "      <th></th>\n",
              "      <th>CA.102548</th>\n",
              "      <th>CA.104338</th>\n",
              "      <th>CA.105094</th>\n",
              "      <th>CA.109745</th>\n",
              "      <th>CA.1906415</th>\n",
              "      <th>CA.1912627</th>\n",
              "      <th>CA.1924346</th>\n",
              "      <th>CA.1926760</th>\n",
              "      <th>CA.1927842</th>\n",
              "      <th>CA.1933414</th>\n",
              "      <th>...</th>\n",
              "      <th>CAP.2040686</th>\n",
              "      <th>CAP.2046297</th>\n",
              "      <th>CAP.2046641</th>\n",
              "      <th>CAP.348981</th>\n",
              "      <th>CAP.354300</th>\n",
              "      <th>CAP.359448</th>\n",
              "      <th>CAP.94377</th>\n",
              "      <th>CAP.98389</th>\n",
              "      <th>CAP.98475</th>\n",
              "      <th>CAP.99145</th>\n",
              "    </tr>\n",
              "  </thead>\n",
              "  <tbody>\n",
              "    <tr>\n",
              "      <th>0</th>\n",
              "      <td>0.93</td>\n",
              "      <td>1.97</td>\n",
              "      <td>0.0</td>\n",
              "      <td>5.45</td>\n",
              "      <td>4.52</td>\n",
              "      <td>4.75</td>\n",
              "      <td>3.96</td>\n",
              "      <td>3.58</td>\n",
              "      <td>6.41</td>\n",
              "      <td>11.89</td>\n",
              "      <td>...</td>\n",
              "      <td>6.66</td>\n",
              "      <td>8.35</td>\n",
              "      <td>8.94</td>\n",
              "      <td>6.33</td>\n",
              "      <td>5.94</td>\n",
              "      <td>6.35</td>\n",
              "      <td>3.74</td>\n",
              "      <td>4.84</td>\n",
              "      <td>10.46</td>\n",
              "      <td>4.54</td>\n",
              "    </tr>\n",
              "    <tr>\n",
              "      <th>1</th>\n",
              "      <td>0.0</td>\n",
              "      <td>0.0</td>\n",
              "      <td>0.0</td>\n",
              "      <td>0.0</td>\n",
              "      <td>0.0</td>\n",
              "      <td>0.0</td>\n",
              "      <td>0.0</td>\n",
              "      <td>0.23</td>\n",
              "      <td>0.39</td>\n",
              "      <td>0.44</td>\n",
              "      <td>...</td>\n",
              "      <td>0.12</td>\n",
              "      <td>0.17</td>\n",
              "      <td>1.08</td>\n",
              "      <td>0.29</td>\n",
              "      <td>0.0</td>\n",
              "      <td>0.07</td>\n",
              "      <td>9.19</td>\n",
              "      <td>1.18</td>\n",
              "      <td>0.09</td>\n",
              "      <td>0.39</td>\n",
              "    </tr>\n",
              "    <tr>\n",
              "      <th>2</th>\n",
              "      <td>0.0</td>\n",
              "      <td>0.43</td>\n",
              "      <td>0.0</td>\n",
              "      <td>3.43</td>\n",
              "      <td>8.45</td>\n",
              "      <td>8.53</td>\n",
              "      <td>7.8</td>\n",
              "      <td>7.62</td>\n",
              "      <td>6.4</td>\n",
              "      <td>6.09</td>\n",
              "      <td>...</td>\n",
              "      <td>4.93</td>\n",
              "      <td>7.47</td>\n",
              "      <td>5.72</td>\n",
              "      <td>4.96</td>\n",
              "      <td>9.28</td>\n",
              "      <td>9.15</td>\n",
              "      <td>4.77</td>\n",
              "      <td>3.75</td>\n",
              "      <td>7.31</td>\n",
              "      <td>2.77</td>\n",
              "    </tr>\n",
              "    <tr>\n",
              "      <th>3</th>\n",
              "      <td>5.78</td>\n",
              "      <td>5.17</td>\n",
              "      <td>8.76</td>\n",
              "      <td>4.58</td>\n",
              "      <td>7.2</td>\n",
              "      <td>6.03</td>\n",
              "      <td>9.05</td>\n",
              "      <td>5.37</td>\n",
              "      <td>5.92</td>\n",
              "      <td>12.45</td>\n",
              "      <td>...</td>\n",
              "      <td>8.02</td>\n",
              "      <td>6.0</td>\n",
              "      <td>5.28</td>\n",
              "      <td>4.98</td>\n",
              "      <td>4.45</td>\n",
              "      <td>7.0</td>\n",
              "      <td>4.14</td>\n",
              "      <td>5.51</td>\n",
              "      <td>7.45</td>\n",
              "      <td>2.33</td>\n",
              "    </tr>\n",
              "    <tr>\n",
              "      <th>4</th>\n",
              "      <td>2.83</td>\n",
              "      <td>6.26</td>\n",
              "      <td>3.37</td>\n",
              "      <td>6.24</td>\n",
              "      <td>5.16</td>\n",
              "      <td>13.69</td>\n",
              "      <td>6.69</td>\n",
              "      <td>5.28</td>\n",
              "      <td>7.65</td>\n",
              "      <td>13.71</td>\n",
              "      <td>...</td>\n",
              "      <td>7.91</td>\n",
              "      <td>4.61</td>\n",
              "      <td>8.35</td>\n",
              "      <td>9.84</td>\n",
              "      <td>7.68</td>\n",
              "      <td>5.62</td>\n",
              "      <td>2.81</td>\n",
              "      <td>7.08</td>\n",
              "      <td>7.28</td>\n",
              "      <td>5.39</td>\n",
              "    </tr>\n",
              "    <tr>\n",
              "      <th>...</th>\n",
              "      <td>...</td>\n",
              "      <td>...</td>\n",
              "      <td>...</td>\n",
              "      <td>...</td>\n",
              "      <td>...</td>\n",
              "      <td>...</td>\n",
              "      <td>...</td>\n",
              "      <td>...</td>\n",
              "      <td>...</td>\n",
              "      <td>...</td>\n",
              "      <td>...</td>\n",
              "      <td>...</td>\n",
              "      <td>...</td>\n",
              "      <td>...</td>\n",
              "      <td>...</td>\n",
              "      <td>...</td>\n",
              "      <td>...</td>\n",
              "      <td>...</td>\n",
              "      <td>...</td>\n",
              "      <td>...</td>\n",
              "      <td>...</td>\n",
              "    </tr>\n",
              "    <tr>\n",
              "      <th>20238</th>\n",
              "      <td>0.0</td>\n",
              "      <td>0.1</td>\n",
              "      <td>0.0</td>\n",
              "      <td>1.15</td>\n",
              "      <td>0.0</td>\n",
              "      <td>0.12</td>\n",
              "      <td>0.46</td>\n",
              "      <td>0.1</td>\n",
              "      <td>0.24</td>\n",
              "      <td>0.0</td>\n",
              "      <td>...</td>\n",
              "      <td>0.21</td>\n",
              "      <td>0.19</td>\n",
              "      <td>0.08</td>\n",
              "      <td>0.17</td>\n",
              "      <td>2.52</td>\n",
              "      <td>1.64</td>\n",
              "      <td>0.5</td>\n",
              "      <td>0.0</td>\n",
              "      <td>0.0</td>\n",
              "      <td>1.17</td>\n",
              "    </tr>\n",
              "    <tr>\n",
              "      <th>20240</th>\n",
              "      <td>38.27</td>\n",
              "      <td>30.99</td>\n",
              "      <td>47.57</td>\n",
              "      <td>12.27</td>\n",
              "      <td>4.69</td>\n",
              "      <td>3.88</td>\n",
              "      <td>2.96</td>\n",
              "      <td>6.4</td>\n",
              "      <td>5.63</td>\n",
              "      <td>6.88</td>\n",
              "      <td>...</td>\n",
              "      <td>3.56</td>\n",
              "      <td>2.95</td>\n",
              "      <td>3.3</td>\n",
              "      <td>4.53</td>\n",
              "      <td>2.89</td>\n",
              "      <td>3.11</td>\n",
              "      <td>3.03</td>\n",
              "      <td>9.18</td>\n",
              "      <td>5.2</td>\n",
              "      <td>5.27</td>\n",
              "    </tr>\n",
              "    <tr>\n",
              "      <th>20241</th>\n",
              "      <td>0.0</td>\n",
              "      <td>0.16</td>\n",
              "      <td>0.0</td>\n",
              "      <td>0.0</td>\n",
              "      <td>0.0</td>\n",
              "      <td>0.3</td>\n",
              "      <td>0.0</td>\n",
              "      <td>0.0</td>\n",
              "      <td>0.43</td>\n",
              "      <td>0.55</td>\n",
              "      <td>...</td>\n",
              "      <td>0.19</td>\n",
              "      <td>0.72</td>\n",
              "      <td>0.95</td>\n",
              "      <td>0.0</td>\n",
              "      <td>0.33</td>\n",
              "      <td>0.26</td>\n",
              "      <td>0.0</td>\n",
              "      <td>0.0</td>\n",
              "      <td>0.0</td>\n",
              "      <td>0.23</td>\n",
              "    </tr>\n",
              "    <tr>\n",
              "      <th>20244</th>\n",
              "      <td>0.0</td>\n",
              "      <td>0.0</td>\n",
              "      <td>0.0</td>\n",
              "      <td>0.1</td>\n",
              "      <td>0.64</td>\n",
              "      <td>0.0</td>\n",
              "      <td>0.0</td>\n",
              "      <td>0.0</td>\n",
              "      <td>0.2</td>\n",
              "      <td>0.27</td>\n",
              "      <td>...</td>\n",
              "      <td>0.46</td>\n",
              "      <td>0.19</td>\n",
              "      <td>0.7</td>\n",
              "      <td>0.16</td>\n",
              "      <td>0.84</td>\n",
              "      <td>0.58</td>\n",
              "      <td>0.0</td>\n",
              "      <td>0.0</td>\n",
              "      <td>0.0</td>\n",
              "      <td>0.14</td>\n",
              "    </tr>\n",
              "    <tr>\n",
              "      <th>20245</th>\n",
              "      <td>0.0</td>\n",
              "      <td>0.0</td>\n",
              "      <td>0.0</td>\n",
              "      <td>0.0</td>\n",
              "      <td>0.0</td>\n",
              "      <td>0.0</td>\n",
              "      <td>0.0</td>\n",
              "      <td>0.06</td>\n",
              "      <td>0.37</td>\n",
              "      <td>0.0</td>\n",
              "      <td>...</td>\n",
              "      <td>0.0</td>\n",
              "      <td>2.85</td>\n",
              "      <td>0.46</td>\n",
              "      <td>0.0</td>\n",
              "      <td>0.0</td>\n",
              "      <td>0.42</td>\n",
              "      <td>0.62</td>\n",
              "      <td>0.0</td>\n",
              "      <td>3.31</td>\n",
              "      <td>1.19</td>\n",
              "    </tr>\n",
              "  </tbody>\n",
              "</table>\n",
              "<p>18368 rows × 60 columns</p>\n",
              "</div>\n",
              "      <button class=\"colab-df-convert\" onclick=\"convertToInteractive('df-e01c74f6-9852-4232-980f-e0adbe5be770')\"\n",
              "              title=\"Convert this dataframe to an interactive table.\"\n",
              "              style=\"display:none;\">\n",
              "        \n",
              "  <svg xmlns=\"http://www.w3.org/2000/svg\" height=\"24px\"viewBox=\"0 0 24 24\"\n",
              "       width=\"24px\">\n",
              "    <path d=\"M0 0h24v24H0V0z\" fill=\"none\"/>\n",
              "    <path d=\"M18.56 5.44l.94 2.06.94-2.06 2.06-.94-2.06-.94-.94-2.06-.94 2.06-2.06.94zm-11 1L8.5 8.5l.94-2.06 2.06-.94-2.06-.94L8.5 2.5l-.94 2.06-2.06.94zm10 10l.94 2.06.94-2.06 2.06-.94-2.06-.94-.94-2.06-.94 2.06-2.06.94z\"/><path d=\"M17.41 7.96l-1.37-1.37c-.4-.4-.92-.59-1.43-.59-.52 0-1.04.2-1.43.59L10.3 9.45l-7.72 7.72c-.78.78-.78 2.05 0 2.83L4 21.41c.39.39.9.59 1.41.59.51 0 1.02-.2 1.41-.59l7.78-7.78 2.81-2.81c.8-.78.8-2.07 0-2.86zM5.41 20L4 18.59l7.72-7.72 1.47 1.35L5.41 20z\"/>\n",
              "  </svg>\n",
              "      </button>\n",
              "      \n",
              "  <style>\n",
              "    .colab-df-container {\n",
              "      display:flex;\n",
              "      flex-wrap:wrap;\n",
              "      gap: 12px;\n",
              "    }\n",
              "\n",
              "    .colab-df-convert {\n",
              "      background-color: #E8F0FE;\n",
              "      border: none;\n",
              "      border-radius: 50%;\n",
              "      cursor: pointer;\n",
              "      display: none;\n",
              "      fill: #1967D2;\n",
              "      height: 32px;\n",
              "      padding: 0 0 0 0;\n",
              "      width: 32px;\n",
              "    }\n",
              "\n",
              "    .colab-df-convert:hover {\n",
              "      background-color: #E2EBFA;\n",
              "      box-shadow: 0px 1px 2px rgba(60, 64, 67, 0.3), 0px 1px 3px 1px rgba(60, 64, 67, 0.15);\n",
              "      fill: #174EA6;\n",
              "    }\n",
              "\n",
              "    [theme=dark] .colab-df-convert {\n",
              "      background-color: #3B4455;\n",
              "      fill: #D2E3FC;\n",
              "    }\n",
              "\n",
              "    [theme=dark] .colab-df-convert:hover {\n",
              "      background-color: #434B5C;\n",
              "      box-shadow: 0px 1px 3px 1px rgba(0, 0, 0, 0.15);\n",
              "      filter: drop-shadow(0px 1px 2px rgba(0, 0, 0, 0.3));\n",
              "      fill: #FFFFFF;\n",
              "    }\n",
              "  </style>\n",
              "\n",
              "      <script>\n",
              "        const buttonEl =\n",
              "          document.querySelector('#df-e01c74f6-9852-4232-980f-e0adbe5be770 button.colab-df-convert');\n",
              "        buttonEl.style.display =\n",
              "          google.colab.kernel.accessAllowed ? 'block' : 'none';\n",
              "\n",
              "        async function convertToInteractive(key) {\n",
              "          const element = document.querySelector('#df-e01c74f6-9852-4232-980f-e0adbe5be770');\n",
              "          const dataTable =\n",
              "            await google.colab.kernel.invokeFunction('convertToInteractive',\n",
              "                                                     [key], {});\n",
              "          if (!dataTable) return;\n",
              "\n",
              "          const docLinkHtml = 'Like what you see? Visit the ' +\n",
              "            '<a target=\"_blank\" href=https://colab.research.google.com/notebooks/data_table.ipynb>data table notebook</a>'\n",
              "            + ' to learn more about interactive tables.';\n",
              "          element.innerHTML = '';\n",
              "          dataTable['output_type'] = 'display_data';\n",
              "          await google.colab.output.renderOutput(dataTable, element);\n",
              "          const docLink = document.createElement('div');\n",
              "          docLink.innerHTML = docLinkHtml;\n",
              "          element.appendChild(docLink);\n",
              "        }\n",
              "      </script>\n",
              "    </div>\n",
              "  </div>\n",
              "  "
            ]
          },
          "metadata": {},
          "execution_count": 10
        }
      ]
    },
    {
      "cell_type": "markdown",
      "source": [
        "**Elobw Method**"
      ],
      "metadata": {
        "id": "AdxaucNFBlRA"
      }
    },
    {
      "cell_type": "code",
      "source": [
        "wcss = [] \n",
        "k=[]\n",
        "for i in range(1, 11): \n",
        "    kmeans = KMeans(n_clusters = i, init = 'k-means++', random_state = 42)\n",
        "    kmeans.fit(dataset) \n",
        "    wcss.append(kmeans.inertia_)\n",
        "    k.append(i)"
      ],
      "metadata": {
        "id": "4_a3oZyk8Xzu"
      },
      "execution_count": null,
      "outputs": []
    },
    {
      "cell_type": "code",
      "source": [
        "plt.plot( k,wcss, label = \"error line\")\n",
        "plt.xlabel('Clusters')\n",
        "plt.ylabel('error rate')"
      ],
      "metadata": {
        "colab": {
          "base_uri": "https://localhost:8080/",
          "height": 308
        },
        "id": "QUx3tG_p8knA",
        "outputId": "8a183797-82da-41e7-858a-7a475a3a04ee"
      },
      "execution_count": null,
      "outputs": [
        {
          "output_type": "execute_result",
          "data": {
            "text/plain": [
              "Text(0, 0.5, 'error rate')"
            ]
          },
          "metadata": {},
          "execution_count": 12
        },
        {
          "output_type": "display_data",
          "data": {
            "text/plain": [
              "<Figure size 432x288 with 1 Axes>"
            ],
            "image/png": "[encoded data removed]"
          },
          "metadata": {
            "needs_background": "light"
          }
        }
      ]
    },
    {
      "cell_type": "markdown",
      "source": [
        "**Dimension Reduction  /**\n",
        "**Scalling /**\n",
        "**Kmeans**"
      ],
      "metadata": {
        "id": "MdooXBEQ5vf0"
      }
    },
    {
      "cell_type": "code",
      "source": [
        "preprocessor=Pipeline(\n",
        "    [\n",
        "        (\"scaler\",MinMaxScaler()),\n",
        "        (\"pca\" ,PCA(n_components=2,random_state=42)),\n",
        "    ]\n",
        ")\n",
        "\n",
        "clusterer=Pipeline(\n",
        "    [\n",
        "        (\"kmeans\",\n",
        "         KMeans(n_clusters=2,\n",
        "                init=\"k-means++\",\n",
        "                n_init=50,\n",
        "                max_iter=500,\n",
        "                random_state=42)\n",
        "         )\n",
        "    ]\n",
        ")\n",
        "\n",
        "pipe=Pipeline(\n",
        "    [\n",
        "        (\"preprocessor\",preprocessor),\n",
        "        (\"Clusterer\",clusterer),\n",
        "    ]\n",
        "    )"
      ],
      "metadata": {
        "id": "a3d0VsUl5jBj"
      },
      "execution_count": null,
      "outputs": []
    },
    {
      "cell_type": "code",
      "source": [
        "pipe.fit(dataset)"
      ],
      "metadata": {
        "colab": {
          "base_uri": "https://localhost:8080/"
        },
        "id": "cJHggFJY5pGS",
        "outputId": "a1410a3b-a175-449a-996d-ceb2e8403205"
      },
      "execution_count": null,
      "outputs": [
        {
          "output_type": "execute_result",
          "data": {
            "text/plain": [
              "Pipeline(steps=[('preprocessor',\n",
              "                 Pipeline(steps=[('scaler', MinMaxScaler()),\n",
              "                                 ('pca',\n",
              "                                  PCA(n_components=2, random_state=42))])),\n",
              "                ('Clusterer',\n",
              "                 Pipeline(steps=[('kmeans',\n",
              "                                  KMeans(max_iter=500, n_clusters=2, n_init=50,\n",
              "                                         random_state=42))]))])"
            ]
          },
          "metadata": {},
          "execution_count": 14
        }
      ]
    },
    {
      "cell_type": "markdown",
      "source": [
        "**Evaluation**"
      ],
      "metadata": {
        "id": "28XcYXlPBc5O"
      }
    },
    {
      "cell_type": "code",
      "source": [
        "preprocessed_data = pipe[\"preprocessor\"].transform(dataset)\n",
        "predicted_labels = pipe[\"Clusterer\"][\"kmeans\"].labels_\n",
        "silhouette_score(preprocessed_data,predicted_labels)"
      ],
      "metadata": {
        "colab": {
          "base_uri": "https://localhost:8080/"
        },
        "id": "l3_qt69l9Xm5",
        "outputId": "b8cc8032-aa1e-47e6-db0c-ec67738149ae"
      },
      "execution_count": null,
      "outputs": [
        {
          "output_type": "execute_result",
          "data": {
            "text/plain": [
              "0.9978195887425547"
            ]
          },
          "metadata": {},
          "execution_count": 15
        }
      ]
    },
    {
      "cell_type": "markdown",
      "source": [
        "**Kmeans Plotting**"
      ],
      "metadata": {
        "id": "b3EteZ5KIWoQ"
      }
    },
    {
      "cell_type": "code",
      "source": [
        "import matplotlib.pyplot as plt\n",
        "from matplotlib.colors import ListedColormap\n",
        "\n",
        "#Getting unique labels\n",
        "u_labels = np.unique(predicted_labels)\n",
        "\n",
        "#plotting the results:\n",
        "for i in u_labels:\n",
        "    plt.scatter(preprocessed_data[predicted_labels == i , 0] , preprocessed_data[predicted_labels == i , 1] , label = i)\n",
        "plt.legend()\n",
        "plt.show()"
      ],
      "metadata": {
        "colab": {
          "base_uri": "https://localhost:8080/",
          "height": 265
        },
        "id": "Ad2fOdpxzKav",
        "outputId": "7c142d84-e303-4ec9-f798-1250228eb1d2"
      },
      "execution_count": null,
      "outputs": [
        {
          "output_type": "display_data",
          "data": {
            "text/plain": [
              "<Figure size 432x288 with 1 Axes>"
            ],
            "image/png": "[encoded data removed]"
          },
          "metadata": {
            "needs_background": "light"
          }
        }
      ]
    },
    {
      "cell_type": "markdown",
      "source": [
        "**DBSCAN**"
      ],
      "metadata": {
        "id": "8UA9eY2qCC37"
      }
    },
    {
      "cell_type": "code",
      "source": [
        "from sklearn.cluster import DBSCAN\n",
        "from sklearn import metrics"
      ],
      "metadata": {
        "id": "QtLSM4NwAYge"
      },
      "execution_count": null,
      "outputs": []
    },
    {
      "cell_type": "code",
      "source": [
        "db = DBSCAN(eps=0.09, min_samples=3, algorithm='ball_tree', metric='minkowski', leaf_size=90, p=3).fit(preprocessed_data)\n",
        "core_samples_mask = np.zeros_like(db.labels_, dtype=bool)\n",
        "core_samples_mask[db.core_sample_indices_] = True\n",
        "labels = db.labels_\n",
        "\n",
        "# Number of clusters in labels, ignoring noise if present.\n",
        "n_clusters_ = len(set(labels)) - (1 if -1 in labels else 0)\n",
        "n_noise_ = list(labels).count(-1)\n",
        "\n",
        "print(\"Estimated number of clusters: %d\" % n_clusters_)\n",
        "print(\"Estimated number of noise points: %d\" % n_noise_)"
      ],
      "metadata": {
        "colab": {
          "base_uri": "https://localhost:8080/"
        },
        "id": "b0JtOyUECKCq",
        "outputId": "e74eebfd-839c-456b-c073-64ef9816dd21"
      },
      "execution_count": null,
      "outputs": [
        {
          "output_type": "stream",
          "name": "stdout",
          "text": [
            "Estimated number of clusters: 2\n",
            "Estimated number of noise points: 11\n"
          ]
        }
      ]
    },
    {
      "cell_type": "markdown",
      "source": [
        "**DBscan Evaluation**"
      ],
      "metadata": {
        "id": "temDKe_mZowH"
      }
    },
    {
      "cell_type": "code",
      "source": [
        "silhouette_score(dataset,labels)"
      ],
      "metadata": {
        "colab": {
          "base_uri": "https://localhost:8080/"
        },
        "id": "cXWy-o6CCTjx",
        "outputId": "2df2ca1e-42b5-4fdc-c383-29f956ef3b84"
      },
      "execution_count": null,
      "outputs": [
        {
          "output_type": "execute_result",
          "data": {
            "text/plain": [
              "0.9642220162147362"
            ]
          },
          "metadata": {},
          "execution_count": 47
        }
      ]
    },
    {
      "cell_type": "markdown",
      "source": [
        "**DBscan Plotting**"
      ],
      "metadata": {
        "id": "RfHAJ3U7Z4Sn"
      }
    },
    {
      "cell_type": "code",
      "source": [
        "unique_labels = set(labels)\n",
        "core_samples_mask = np.zeros_like(labels, dtype=bool)\n",
        "core_samples_mask[db.core_sample_indices_] = True\n",
        "\n",
        "colors = [plt.cm.Spectral(each) for each in np.linspace(0, 1, len(unique_labels))]\n",
        "for k, col in zip(unique_labels, colors):\n",
        "    if k == -1:\n",
        "        # Black used for noise.\n",
        "        col = [0, 0, 0, 1]\n",
        "    class_member_mask = labels == k\n",
        "    xy = preprocessed_data[class_member_mask & core_samples_mask]\n",
        "    plt.plot(xy[:, 0], xy[:, 1],'o', markerfacecolor=tuple(col),markeredgecolor=\"k\",markersize=5,)\n",
        "    xy = preprocessed_data[class_member_mask & ~core_samples_mask]\n",
        "    plt.plot(xy[:, 0], xy[:, 1],  \"o\", markerfacecolor=tuple(col), markeredgecolor=\"k\", markersize=5, )\n",
        "plt.title(f\"Estimated number of clusters: {n_clusters_}\")\n",
        "plt.show()\n"
      ],
      "metadata": {
        "colab": {
          "base_uri": "https://localhost:8080/",
          "height": 281
        },
        "id": "I1wdDT7TZ3Cc",
        "outputId": "7044dbd3-a4da-4996-eff3-c2a55cc56b7d"
      },
      "execution_count": null,
      "outputs": [
        {
          "output_type": "display_data",
          "data": {
            "text/plain": [
              "<Figure size 432x288 with 1 Axes>"
            ],
            "image/png": "[encoded data removed]"
          },
          "metadata": {
            "needs_background": "light"
          }
        }
      ]
    }
  ]
}